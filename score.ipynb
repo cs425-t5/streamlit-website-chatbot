{
 "cells": [
  {
   "cell_type": "code",
   "execution_count": 1,
   "metadata": {},
   "outputs": [
    {
     "name": "stdout",
     "output_type": "stream",
     "text": [
      "Requirement already satisfied: rouge in /Users/clara/opt/anaconda3/lib/python3.9/site-packages (1.0.1)\n",
      "Requirement already satisfied: six in /Users/clara/opt/anaconda3/lib/python3.9/site-packages (from rouge) (1.16.0)\n"
     ]
    }
   ],
   "source": [
    "!pip3 install rouge"
   ]
  },
  {
   "cell_type": "code",
   "execution_count": 2,
   "metadata": {},
   "outputs": [],
   "source": [
    "import pandas as pd\n",
    "\n",
    "file_path = 'responses.csv'\n",
    "data = pd.read_csv(file_path)"
   ]
  },
  {
   "cell_type": "code",
   "execution_count": 11,
   "metadata": {},
   "outputs": [],
   "source": [
    "references = data['Ground Truth Answer'].astype(str).apply(lambda x: x.split())\n",
    "scaled_dot_product_outputs = data['Output (Scaled dot-product)'].astype(str).apply(lambda x: x.split())\n",
    "multiplicative_outputs = data['Output (Multiplicative)'].astype(str).apply(lambda x: x.split())\n",
    "double_multiplicative_outputs = data['Output (Double Multiplicative)'].astype(str).apply(lambda x: x.split())"
   ]
  },
  {
   "cell_type": "code",
   "execution_count": 12,
   "metadata": {},
   "outputs": [
    {
     "data": {
      "text/plain": [
       "(0.002635638311331966, 0.001393110925394761, 0.00039649573385989784)"
      ]
     },
     "execution_count": 12,
     "metadata": {},
     "output_type": "execute_result"
    }
   ],
   "source": [
    "from nltk.translate.bleu_score import sentence_bleu, SmoothingFunction\n",
    "\n",
    "# Smoothing function\n",
    "smoothing = SmoothingFunction().method1\n",
    "\n",
    "# Calculate BLEU scores\n",
    "bleu_scores_scaled_dot_product = [\n",
    "    sentence_bleu(ref, out, weights=(0.25, 0.25, 0.25, 0.25), smoothing_function=smoothing) for ref, out in zip(references, scaled_dot_product_outputs)\n",
    "]\n",
    "bleu_scores_multiplicative = [\n",
    "    sentence_bleu(ref, out, weights=(0.25, 0.25, 0.25, 0.25), smoothing_function=smoothing) for ref, out in zip(references, multiplicative_outputs)\n",
    "]\n",
    "bleu_scores_double_multiplicative = [\n",
    "    sentence_bleu(ref, out, weights=(0.25, 0.25, 0.25, 0.25), smoothing_function=smoothing) for ref, out in zip(references, double_multiplicative_outputs)\n",
    "]\n",
    "\n",
    "# Compute average BLEU score\n",
    "average_bleu_scaled_dot_product = sum(bleu_scores_scaled_dot_product) / len(bleu_scores_scaled_dot_product)\n",
    "average_bleu_multiplicative = sum(bleu_scores_multiplicative) / len(bleu_scores_multiplicative)\n",
    "average_bleu_double_multiplicative = sum(bleu_scores_double_multiplicative) / len(bleu_scores_double_multiplicative)\n",
    "\n",
    "average_bleu_scaled_dot_product, average_bleu_multiplicative, average_bleu_double_multiplicative"
   ]
  },
  {
   "cell_type": "code",
   "execution_count": 5,
   "metadata": {},
   "outputs": [
    {
     "data": {
      "text/plain": [
       "0                                                  [41]\n",
       "1                       [the, coliseum, of, the, state]\n",
       "2                                       [mike, woodson]\n",
       "3                                               [three]\n",
       "4     [6, ft, 8, in, -, foot, -, foot, -, foot, -, 1...\n",
       "5     [larry, bird, of, the, nba, all, -, of, the, n...\n",
       "6     [michael, jordan., 4., 6., 6., 4., 4., 4., 4.,...\n",
       "7           [2004, of, the, nba., of, the, nba, finals]\n",
       "8                                       [mike, woodson]\n",
       "9     [boston, celtics, -, of, the, ', s, basketball...\n",
       "10                                              [white]\n",
       "Name: Output (Scaled dot-product), dtype: object"
      ]
     },
     "execution_count": 5,
     "metadata": {},
     "output_type": "execute_result"
    }
   ],
   "source": [
    "scaled_dot_product_outputs"
   ]
  },
  {
   "cell_type": "code",
   "execution_count": 6,
   "metadata": {},
   "outputs": [
    {
     "name": "stdout",
     "output_type": "stream",
     "text": [
      "{'rouge-1': 0.28630460254850965, 'rouge-2': 0.04885215725767502, 'rouge-l': 0.28630460254850965} {'rouge-1': 0.17373737254433222, 'rouge-2': 0.03655527562174877, 'rouge-l': 0.17373737254433222} {'rouge-1': 0.17146464506481832, 'rouge-2': 0.03324675277975511, 'rouge-l': 0.17146464506481832}\n"
     ]
    }
   ],
   "source": [
    "from rouge import Rouge\n",
    "\n",
    "# Initialize ROUGE evaluator\n",
    "rouge = Rouge()\n",
    "\n",
    "rogue_scores_scaled = []\n",
    "rouge_scores_multiplicative = []\n",
    "rouge_scores_double_multiplicative = []\n",
    "\n",
    "for ref, scaled_dot_product_outs, multi_out, double_out in zip(references, scaled_dot_product_outputs, multiplicative_outputs, double_multiplicative_outputs):\n",
    "    ref_text = \" \".join(ref)\n",
    "    scaled_text = \" \".join(scaled_dot_product_outs)\n",
    "    multi_text = \" \".join(multi_out)\n",
    "    double_text = \" \".join(double_out)\n",
    "    \n",
    "    # ROUGE scores\n",
    "    rogue_scores_scaled.append(rouge.get_scores(scaled_text, ref_text, avg=True))\n",
    "    rouge_scores_multiplicative.append(rouge.get_scores(multi_text, ref_text, avg=True))\n",
    "    rouge_scores_double_multiplicative.append(rouge.get_scores(double_text, ref_text, avg=True))\n",
    "\n",
    "average_rouge_scaled = {\n",
    "    key: sum(score[key]['f'] for score in rogue_scores_scaled) / len(rogue_scores_scaled)\n",
    "    for key in rogue_scores_scaled[0]\n",
    "}\n",
    "average_rouge_multiplicative = {\n",
    "    key: sum(score[key]['f'] for score in rouge_scores_multiplicative) / len(rouge_scores_multiplicative)\n",
    "    for key in rouge_scores_multiplicative[0]\n",
    "}\n",
    "average_rouge_double_multiplicative = {\n",
    "    key: sum(score[key]['f'] for score in rouge_scores_double_multiplicative) / len(rouge_scores_double_multiplicative)\n",
    "    for key in rouge_scores_double_multiplicative[0]\n",
    "}\n",
    "\n",
    "print(average_rouge_scaled, average_rouge_multiplicative, average_rouge_double_multiplicative)"
   ]
  }
 ],
 "metadata": {
  "kernelspec": {
   "display_name": "base",
   "language": "python",
   "name": "python3"
  },
  "language_info": {
   "codemirror_mode": {
    "name": "ipython",
    "version": 3
   },
   "file_extension": ".py",
   "mimetype": "text/x-python",
   "name": "python",
   "nbconvert_exporter": "python",
   "pygments_lexer": "ipython3",
   "version": "3.9.12"
  }
 },
 "nbformat": 4,
 "nbformat_minor": 2
}
